{
 "cells": [
  {
   "cell_type": "markdown",
   "metadata": {},
   "source": [
    " Written by Federica B. Bianco @fedhere\n",
    " NYU CUSP PUI\n",
    "\n",
    " Assignment 1 Homework 4\n",
    "\n",
    " This is a skeleton & instruction notebook\n",
    "\n",
    "-  GENERATE  100 samples of different sizes N (N>10 & N<2000) from each of 5 different distributions (500 samples in total), \n",
    " _all with the same population mean_. Include a _Normal_, a _Poisson_, a _Binomial_, a _Chi-Squared_ distribution, and 1 more of your choice.                                       \n",
    "-  For each sample plot the sample mean (dependent var.) against the sample size N (independent var.) (if you want you can do it with the sample standard deviation as well). \n",
    "-  Describe the behavior you see in the plots in terms of the law of large numbers.\n",
    "-  PLOT the distributions of all sample means (together for all distributions). _Mandatory_: as a histogram. _Optional_: in any other way you think is convincing\n",
    " Extra Credit: FIT a gaussian to the distribution of means            "
   ]
  },
  {
   "cell_type": "code",
   "execution_count": 1,
   "metadata": {},
   "outputs": [
    {
     "name": "stdout",
     "output_type": "stream",
     "text": [
      "Populating the interactive namespace from numpy and matplotlib\n"
     ]
    }
   ],
   "source": [
    "from __future__ import print_function\n",
    "__author__= 'fbb'\n",
    "\n",
    "import pylab as pl\n",
    "# this package sets up pretty plots\n",
    "import seaborn\n",
    "from scipy.optimize import curve_fit, minimize\n",
    "    \n",
    "%pylab inline"
   ]
  },
  {
   "cell_type": "markdown",
   "metadata": {},
   "source": [
    "## choose which distributions to use "
   ]
  },
  {
   "cell_type": "code",
   "execution_count": 2,
   "metadata": {},
   "outputs": [],
   "source": [
    "#seed for reproducibility\n",
    "seed = 123\n",
    "np.random.seed(seed)\n",
    "\n",
    "#distributions = ['pois', 'gaus', 'chisq', 'cauchy', 'lnorm', 'binomial']\n",
    "distributions = ['chisq']\n"
   ]
  },
  {
   "cell_type": "markdown",
   "metadata": {
    "collapsed": true
   },
   "source": [
    "## and which mean to give it"
   ]
  },
  {
   "cell_type": "code",
   "execution_count": 3,
   "metadata": {},
   "outputs": [],
   "source": [
    "mymean = 100"
   ]
  },
  {
   "cell_type": "markdown",
   "metadata": {},
   "source": [
    "# Let's see what this distribution looks like, what is the PDF, and how are the moments defined. Wikipedia is great for this! \n",
    "\n",
    "![1](chisq1.png)\n",
    "\n",
    "![2](chisq2.png)"
   ]
  },
  {
   "cell_type": "markdown",
   "metadata": {},
   "source": [
    "# Then lets look at the numpy random sampling package to see how I create the distribution\n",
    "http://docs.scipy.org/doc/numpy/reference/routines.random.html\n",
    "http://docs.scipy.org/doc/numpy/reference/generated/numpy.random.chisquare.html#numpy.random.chisquare\n",
    "\n"
   ]
  },
  {
   "cell_type": "code",
   "execution_count": 4,
   "metadata": {},
   "outputs": [],
   "source": [
    "# the chi sq distribution takes the number of degrees of freedom, which luckily is the same as the mean!\n",
    "df = mymean"
   ]
  },
  {
   "cell_type": "markdown",
   "metadata": {},
   "source": [
    "## I am making a dictionary to host the distributions.\n",
    "\n",
    "that is only one possible option. with a dictionary I can easily inspect the distribution I want by its name: it is a very human friendly data storage. In this example I am only using a single distribution, so for me it is overkill, but if I were doing the whole exercise with 5 or 6 distributions it would be useful!\n",
    "\n",
    "Lets start by looking at a single chi sq distribution"
   ]
  },
  {
   "cell_type": "code",
   "execution_count": 5,
   "metadata": {},
   "outputs": [
    {
     "data": {
      "text/plain": [
       "Text(0.5,0,'x')"
      ]
     },
     "execution_count": 5,
     "metadata": {},
     "output_type": "execute_result"
    },
    {
     "data": {
      "image/png": "[encoded data removed]",
      "text/plain": [
       "<Figure size 432x288 with 1 Axes>"
      ]
     },
     "metadata": {},
     "output_type": "display_data"
    }
   ],
   "source": [
    "# Note: I am adding imports here, to show the workflow: \n",
    "# at this point I realize what packages I need and I import them. \n",
    "# but this is a PEP8 violation. \n",
    "# It is a good habit to put the includes at the top \n",
    "# so the code fails right away if the packages are missing. \n",
    "# Otherwise a user may have a piece of code running for a long time, \n",
    "# and then fail when the package cannot be imported... \n",
    "# (unless they are only imported under conditions, e.g. in an if statement)\n",
    "\n",
    "import numpy as np\n",
    "md = {}\n",
    "# md is an empty disctionary\n",
    "md['chisq'] = np.random.chisquare(df, size=100)\n",
    "# md now is a dictionary with one object: an array by the key 'chisq'\n",
    "pl.hist(md['chisq'], bins = 30)\n",
    "pl.ylabel('N')\n",
    "pl.xlabel('x')"
   ]
  },
  {
   "cell_type": "markdown",
   "metadata": {},
   "source": [
    "### Figure 1: Chi sq distribution: df = 100, N=100"
   ]
  },
  {
   "cell_type": "markdown",
   "metadata": {},
   "source": [
    "## let numpy calculate what the mean and stdev of this distribution are"
   ]
  },
  {
   "cell_type": "code",
   "execution_count": 6,
   "metadata": {},
   "outputs": [
    {
     "name": "stdout",
     "output_type": "stream",
     "text": [
      "Chisq mean: 101.64, standard deviation: 14.76\n"
     ]
    }
   ],
   "source": [
    "print (\"Chisq mean: %.2f, standard deviation: %.2f\"%(md['chisq'].mean(), md['chisq'].std()))"
   ]
  },
  {
   "cell_type": "markdown",
   "metadata": {},
   "source": [
    "## Now let's do it for 100 Chisq distributions\n",
    "we want distributions of different sizes (all integers between 10 and 2000)"
   ]
  },
  {
   "cell_type": "code",
   "execution_count": 7,
   "metadata": {},
   "outputs": [
    {
     "name": "stdout",
     "output_type": "stream",
     "text": [
      "[2000 1000  666  500  400  333  285  250  222  200  181  166  153  142\n",
      "  133  125  117  111  105  100   95   90   86   83   80   76   74   71\n",
      "   68   66   64   62   60   58   57   55   54   52   51   50   48   47\n",
      "   46   45   44   43   42   41   40   40   39   38   37   37   36   35\n",
      "   35   34   33   33   32   32   31   31   30   30   29   29   28   28\n",
      "   28   27   27   27   26   26   25   25   25   25   24   24   24   23\n",
      "   23   23   22   22   22   22   21   21   21   21   21   20   20   20\n",
      "   20] (99,)\n"
     ]
    }
   ],
   "source": [
    "mysize = (2000 / (np.array(range(1, 100)))).astype(int)\n",
    "# mysize = 1000 / (np.array(range(1, 100) + [10]))\n",
    "# mysize = (np.random.rand(100) * 1000).astype(int)\n",
    "print (mysize, mysize.shape)"
   ]
  },
  {
   "cell_type": "code",
   "execution_count": 8,
   "metadata": {},
   "outputs": [
    {
     "data": {
      "image/png": "[encoded data removed]",
      "text/plain": [
       "<Figure size 720x432 with 1 Axes>"
      ]
     },
     "metadata": {},
     "output_type": "display_data"
    }
   ],
   "source": [
    "# I am gonna overwrite the disctionary entry created into a nested dictionary \n",
    "# the outside dictionary hosts the distributions as dictionary, \n",
    "# and each distribution dictionary contains the 100 distribution (arrays of diferent sizes)\n",
    "\n",
    "md['chisq'] = {} \n",
    "\n",
    "#and do it in a for loop. not pythonic, but easily readable\n",
    "\n",
    "for n in mysize:\n",
    "    md['chisq'][n] = np.random.chisquare(df, size = n)\n",
    "    \n",
    "# save the means for plotting later    \n",
    "\n",
    "md['chisq']['means'] = {}\n",
    "axchisq_mu_n = pl.figure(figsize=(10,6)).add_subplot(111)\n",
    "\n",
    "for nn in md['chisq']:\n",
    "    if not type(nn) == str:\n",
    "        md['chisq']['means'][nn] = md['chisq'][nn].mean()\n",
    "        #and plot it\n",
    "        axchisq_mu_n.plot(nn, md['chisq']['means'][nn], 'o')\n",
    "        axchisq_mu_n.set_xlabel('sample size', fontsize=18)\n",
    "        axchisq_mu_n.set_ylabel('sample mean', fontsize=18)\n",
    "        axchisq_mu_n.set_title('Chi squared', fontsize=18)\n",
    "        axchisq_mu_n.plot([min(mysize), max(mysize)], [df, df], 'k')"
   ]
  },
  {
   "cell_type": "markdown",
   "metadata": {},
   "source": [
    "### Figure 2: [describe what you see and how it relates to the law of large numbers]"
   ]
  },
  {
   "cell_type": "markdown",
   "metadata": {},
   "source": [
    "# now the histogram of the mean of all samples: \n",
    "## this requires some data wrangling, since i put the data in a dictionary which is a user friendly data structure, but perhaps not the most machine friendly one\n",
    "\n",
    "a coder friendly, though not terribly pythonic way to do it is to append each mean in a list in a for loop, and then hist that. be careful: if your data size gets large this becomes a very bad idea!!"
   ]
  },
  {
   "cell_type": "code",
   "execution_count": 9,
   "metadata": {},
   "outputs": [
    {
     "data": {
      "text/plain": [
       "Text(0,0.5,'N')"
      ]
     },
     "execution_count": 9,
     "metadata": {},
     "output_type": "execute_result"
    },
    {
     "data": {
      "image/png": "[encoded data removed]",
      "text/plain": [
       "<Figure size 720x720 with 1 Axes>"
      ]
     },
     "metadata": {},
     "output_type": "display_data"
    }
   ],
   "source": [
    "allmeans = list(md['chisq']['means'].values())\n",
    "\n",
    "pl.figure(figsize=(10, 10))\n",
    "pl.hist(allmeans,bins=30)\n",
    "pl.xlabel('sample mean', fontsize = 18)\n",
    "pl.ylabel('N', fontsize = 18)"
   ]
  },
  {
   "cell_type": "markdown",
   "metadata": {},
   "source": [
    "## Figure 3: [...]"
   ]
  },
  {
   "cell_type": "markdown",
   "metadata": {
    "collapsed": true
   },
   "source": [
    "# Do it for the Normal distribution\n"
   ]
  },
  {
   "cell_type": "code",
   "execution_count": 10,
   "metadata": {},
   "outputs": [
    {
     "data": {
      "text/plain": [
       "Text(0.5,0,'x')"
      ]
     },
     "execution_count": 10,
     "metadata": {},
     "output_type": "execute_result"
    },
    {
     "data": {
      "image/png": "[encoded data removed]",
      "text/plain": [
       "<Figure size 432x288 with 1 Axes>"
      ]
     },
     "metadata": {},
     "output_type": "display_data"
    }
   ],
   "source": [
    "##your code here...\n",
    "md['normal'] = np.random.normal(loc = mymean, size = 100)\n",
    "\n",
    "pl.hist(md['normal'], bins = 30) \n",
    "pl.ylabel('N')\n",
    "pl.xlabel('x')"
   ]
  },
  {
   "cell_type": "markdown",
   "metadata": {},
   "source": [
    "### ADD CAPTION HERE："
   ]
  },
  {
   "cell_type": "code",
   "execution_count": 11,
   "metadata": {},
   "outputs": [
    {
     "name": "stdout",
     "output_type": "stream",
     "text": [
      "Normal mean: 100.05, standard deviation: 1.00\n"
     ]
    }
   ],
   "source": [
    "print (\"Normal mean: %.2f, standard deviation: %.2f\"%(md['normal'].mean(), md['normal'].std()))"
   ]
  },
  {
   "cell_type": "code",
   "execution_count": 12,
   "metadata": {},
   "outputs": [
    {
     "name": "stdout",
     "output_type": "stream",
     "text": [
      "1998 10\n"
     ]
    },
    {
     "data": {
      "image/png": "[encoded data removed]",
      "text/plain": [
       "<Figure size 720x432 with 1 Axes>"
      ]
     },
     "metadata": {},
     "output_type": "display_data"
    }
   ],
   "source": [
    "mysize = (2000/(np.random.rand(100)*200)).astype(int)\n",
    "while len(set(mysize)) < 100:\n",
    "    mysize = np.append(mysize, [int(np.random.rand()*2000)])\n",
    "\n",
    "print(max(mysize), min(mysize))\n",
    "md['normal'] = {}\n",
    "for n in mysize:\n",
    "    md['normal'][n] = np.random.normal(loc = mymean, size = n)\n",
    "md['normal']['means'] = {}\n",
    "\n",
    "axnormal_mu_n = pl.figure(figsize=(10,6)).add_subplot(111)\n",
    "\n",
    "for nn in md['normal']:\n",
    "    if not type(nn) == str:\n",
    "        md['normal']['means'][nn] = md['normal'][nn].mean()\n",
    "        #and plot it\n",
    "        axnormal_mu_n.plot(nn, md['normal']['means'][nn], 'o')\n",
    "        axnormal_mu_n.set_xlabel('sample size', fontsize=18)\n",
    "        axnormal_mu_n.set_ylabel('sample mean', fontsize=18)\n",
    "        axnormal_mu_n.set_title('Normal', fontsize=18)\n",
    "        axnormal_mu_n.plot([min(mysize), max(mysize)], [df, df], 'k')\n"
   ]
  },
  {
   "cell_type": "code",
   "execution_count": 13,
   "metadata": {},
   "outputs": [
    {
     "data": {
      "text/plain": [
       "Text(0,0.5,'N')"
      ]
     },
     "execution_count": 13,
     "metadata": {},
     "output_type": "execute_result"
    },
    {
     "data": {
      "image/png": "[encoded data removed]",
      "text/plain": [
       "<Figure size 720x720 with 1 Axes>"
      ]
     },
     "metadata": {},
     "output_type": "display_data"
    }
   ],
   "source": [
    "allmeans = list(md['normal']['means'].values())\n",
    "\n",
    "pl.figure(figsize=(10, 10))\n",
    "pl.hist(allmeans,bins=30)\n",
    "pl.xlabel('sample mean', fontsize = 18)\n",
    "pl.ylabel('N', fontsize = 18)"
   ]
  },
  {
   "cell_type": "code",
   "execution_count": null,
   "metadata": {},
   "outputs": [],
   "source": []
  },
  {
   "cell_type": "markdown",
   "metadata": {
    "collapsed": true
   },
   "source": [
    "# Do it for the Poisson distribution"
   ]
  },
  {
   "cell_type": "code",
   "execution_count": 14,
   "metadata": {},
   "outputs": [
    {
     "data": {
      "text/plain": [
       "Text(0.5,0,'x')"
      ]
     },
     "execution_count": 14,
     "metadata": {},
     "output_type": "execute_result"
    },
    {
     "data": {
      "image/png": "[encoded data removed]",
      "text/plain": [
       "<Figure size 432x288 with 1 Axes>"
      ]
     },
     "metadata": {},
     "output_type": "display_data"
    }
   ],
   "source": [
    "##your code here...\n",
    "md['pois'] = np.random.poisson(lam = mymean, size = 100)\n",
    "\n",
    "pl.hist(md['pois'], bins = 30) \n",
    "pl.ylabel('N')\n",
    "pl.xlabel('x')"
   ]
  },
  {
   "cell_type": "code",
   "execution_count": 15,
   "metadata": {},
   "outputs": [
    {
     "name": "stdout",
     "output_type": "stream",
     "text": [
      "Poisson mean: 101.82, standard deviation: 9.43\n"
     ]
    }
   ],
   "source": [
    "print (\"Poisson mean: %.2f, standard deviation: %.2f\"%(md['pois'].mean(), md['pois'].std()))"
   ]
  },
  {
   "cell_type": "code",
   "execution_count": 16,
   "metadata": {
    "scrolled": true
   },
   "outputs": [
    {
     "name": "stdout",
     "output_type": "stream",
     "text": [
      "1957 4\n"
     ]
    },
    {
     "data": {
      "image/png": "[encoded data removed]",
      "text/plain": [
       "<Figure size 720x432 with 1 Axes>"
      ]
     },
     "metadata": {},
     "output_type": "display_data"
    }
   ],
   "source": [
    "mysize = (2000/(np.random.rand(100)*200)).astype(int)\n",
    "while len(set(mysize)) < 100:\n",
    "    mysize = np.append(mysize, [int(np.random.rand()*2000)])\n",
    "\n",
    "print(max(mysize), min(mysize))\n",
    "md['pois'] = {}\n",
    "for n in mysize:\n",
    "    md['pois'][n] = np.random.normal(loc = mymean, size = n)\n",
    "md['pois']['means'] = {}\n",
    "\n",
    "axpois_mu_n = pl.figure(figsize=(10,6)).add_subplot(111)\n",
    "\n",
    "for nn in md['pois']:\n",
    "    if not type(nn) == str:\n",
    "        md['pois']['means'][nn] = md['pois'][nn].mean()\n",
    "        #and plot it\n",
    "        axpois_mu_n.plot(nn, md['pois']['means'][nn], 'o')\n",
    "        axpois_mu_n.set_xlabel('sample size', fontsize=18)\n",
    "        axpois_mu_n.set_ylabel('sample mean', fontsize=18)\n",
    "        axpois_mu_n.set_title('Poisson', fontsize=18)\n",
    "        axpois_mu_n.plot([min(mysize), max(mysize)], [df, df], 'k')"
   ]
  },
  {
   "cell_type": "code",
   "execution_count": 17,
   "metadata": {},
   "outputs": [
    {
     "data": {
      "text/plain": [
       "Text(0,0.5,'N')"
      ]
     },
     "execution_count": 17,
     "metadata": {},
     "output_type": "execute_result"
    },
    {
     "data": {
      "image/png": "[encoded data removed]",
      "text/plain": [
       "<Figure size 720x720 with 1 Axes>"
      ]
     },
     "metadata": {},
     "output_type": "display_data"
    }
   ],
   "source": [
    "allmeans = list(md['normal']['means'].values())\n",
    "\n",
    "pl.figure(figsize=(10, 10))\n",
    "pl.hist(allmeans,bins=30)\n",
    "pl.xlabel('sample mean', fontsize = 18)\n",
    "pl.ylabel('N', fontsize = 18)"
   ]
  },
  {
   "cell_type": "markdown",
   "metadata": {},
   "source": [
    "# Do it for the Binomial distribution"
   ]
  },
  {
   "cell_type": "code",
   "execution_count": 18,
   "metadata": {},
   "outputs": [],
   "source": [
    "##your code here..."
   ]
  },
  {
   "cell_type": "markdown",
   "metadata": {},
   "source": [
    "# Do it for another distribution"
   ]
  },
  {
   "cell_type": "code",
   "execution_count": 13,
   "metadata": {
    "collapsed": true
   },
   "outputs": [],
   "source": [
    "##your code here..."
   ]
  },
  {
   "cell_type": "code",
   "execution_count": null,
   "metadata": {
    "collapsed": true
   },
   "outputs": [],
   "source": []
  }
 ],
 "metadata": {
  "anaconda-cloud": {},
  "kernelspec": {
   "display_name": "Python 3",
   "language": "python",
   "name": "python3"
  },
  "language_info": {
   "codemirror_mode": {
    "name": "ipython",
    "version": 3
   },
   "file_extension": ".py",
   "mimetype": "text/x-python",
   "name": "python",
   "nbconvert_exporter": "python",
   "pygments_lexer": "ipython3",
   "version": "3.7.0"
  }
 },
 "nbformat": 4,
 "nbformat_minor": 1
}
